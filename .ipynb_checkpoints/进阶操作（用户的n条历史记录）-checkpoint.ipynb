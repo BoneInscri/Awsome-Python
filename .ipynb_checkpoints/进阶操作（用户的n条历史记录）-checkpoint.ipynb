{
 "cells": [
  {
   "cell_type": "markdown",
   "id": "1f756b4f",
   "metadata": {},
   "source": [
    "#### deque 双端队列"
   ]
  },
  {
   "cell_type": "code",
   "execution_count": 1,
   "id": "23c3107b",
   "metadata": {},
   "outputs": [
    {
     "name": "stdout",
     "output_type": "stream",
     "text": [
      "deque([0, 1, 2, 3, 4], maxlen=5)\n",
      "deque([1, 2, 3, 4, 3], maxlen=5)\n"
     ]
    }
   ],
   "source": [
    "from collections import deque\n",
    "q=deque([],5)\n",
    "for i in range(5):\n",
    "    q.append(i)\n",
    "print(q)\n",
    "q.append(3)\n",
    "print(q)"
   ]
  },
  {
   "cell_type": "markdown",
   "id": "df92d0d2",
   "metadata": {},
   "source": [
    "#### 猜数游戏"
   ]
  },
  {
   "cell_type": "code",
   "execution_count": null,
   "id": "0703550d",
   "metadata": {},
   "outputs": [],
   "source": [
    "from random import randint \n",
    "from collections import deque\n",
    "\n",
    "def guess(n,k):\n",
    "    if n==k:\n",
    "        print('猜对了,这个数字是%d'%k)\n",
    "        return True\n",
    "    if n<k:\n",
    "        print('猜大了,比%d小'%k)\n",
    "    elif n>k:\n",
    "        print('猜小了,比%d大'%k)\n",
    "    return False\n",
    "def main():\n",
    "    n=randint(1,100)\n",
    "    i=1\n",
    "    hq=deque([],5)\n",
    "    while True:\n",
    "        line =input('[%d]请输入一个数字'%i)\n",
    "        if line.isdigit():\n",
    "            k=int(line)\n",
    "            hq.append(k)\n",
    "            i+=1\n",
    "            if guess(n,k):\n",
    "                break\n",
    "        elif line=='quit':\n",
    "            break\n",
    "        elif line =='h?':\n",
    "            print(list(hq))\n",
    "            \n",
    "if __name__=='__main__':\n",
    "    main()"
   ]
  },
  {
   "cell_type": "code",
   "execution_count": null,
   "id": "b0a24dd2",
   "metadata": {},
   "outputs": [],
   "source": []
  }
 ],
 "metadata": {
  "kernelspec": {
   "display_name": "Python 3 (ipykernel)",
   "language": "python",
   "name": "python3"
  },
  "language_info": {
   "codemirror_mode": {
    "name": "ipython",
    "version": 3
   },
   "file_extension": ".py",
   "mimetype": "text/x-python",
   "name": "python",
   "nbconvert_exporter": "python",
   "pygments_lexer": "ipython3",
   "version": "3.10.1"
  }
 },
 "nbformat": 4,
 "nbformat_minor": 5
}
