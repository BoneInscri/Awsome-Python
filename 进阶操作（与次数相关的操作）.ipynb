{
 "cells": [
  {
   "cell_type": "markdown",
   "id": "1e1d8da9",
   "metadata": {},
   "source": [
    "#### 计算序列中出现的次数，统计频数"
   ]
  },
  {
   "cell_type": "code",
   "execution_count": 10,
   "id": "0c8b6e09",
   "metadata": {},
   "outputs": [
    {
     "name": "stdout",
     "output_type": "stream",
     "text": [
      "[8, 13, 12, 3, 1, 15, 3, 11, 1, 3, 1, 10, 16, 9, 5, 6, 0, 8, 2, 17, 9, 6, 0, 14, 14, 10, 5, 14, 11, 11]\n"
     ]
    }
   ],
   "source": [
    "from random import randint\n",
    "data=[randint(0,20) for _ in range(30)]\n",
    "print(data)\n",
    "## 必然包含重复的元素"
   ]
  },
  {
   "cell_type": "code",
   "execution_count": 11,
   "id": "c494f9b8",
   "metadata": {},
   "outputs": [
    {
     "name": "stdout",
     "output_type": "stream",
     "text": [
      "[(3, 14), (3, 11), (3, 3), (3, 1), (2, 10), (2, 9), (2, 8), (2, 6), (2, 5), (2, 0), (1, 17), (1, 16), (1, 15), (1, 13), (1, 12), (1, 2)]\n"
     ]
    }
   ],
   "source": [
    "d=dict.fromkeys(data,0)\n",
    "for x in data:\n",
    "    d[x]+=1\n",
    "d_=sorted([(v,k) for k,v in d.items()],reverse=True)\n",
    "print(d_)"
   ]
  },
  {
   "cell_type": "code",
   "execution_count": 12,
   "id": "888b2dd7",
   "metadata": {},
   "outputs": [
    {
     "name": "stdout",
     "output_type": "stream",
     "text": [
      "[(3, 14), (3, 11), (3, 3)]\n"
     ]
    }
   ],
   "source": [
    "# 前三个\n",
    "print(d_[:3])"
   ]
  },
  {
   "cell_type": "markdown",
   "id": "398d852b",
   "metadata": {},
   "source": [
    "#### 使用内置的堆数据结构"
   ]
  },
  {
   "cell_type": "code",
   "execution_count": 13,
   "id": "f831383c",
   "metadata": {},
   "outputs": [
    {
     "data": {
      "text/plain": [
       "[(3, 14), (3, 11), (3, 3)]"
      ]
     },
     "execution_count": 13,
     "metadata": {},
     "output_type": "execute_result"
    }
   ],
   "source": [
    "import heapq\n",
    "heapq.nlargest(3,((v,k) for k,v in d.items()))"
   ]
  },
  {
   "cell_type": "markdown",
   "id": "01f5f433",
   "metadata": {},
   "source": [
    "#### collections中的Counter直接实现"
   ]
  },
  {
   "cell_type": "code",
   "execution_count": 14,
   "id": "19a5c9c9",
   "metadata": {},
   "outputs": [
    {
     "name": "stdout",
     "output_type": "stream",
     "text": [
      "Counter({3: 3, 1: 3, 11: 3, 14: 3, 8: 2, 10: 2, 9: 2, 5: 2, 6: 2, 0: 2, 13: 1, 12: 1, 15: 1, 16: 1, 2: 1, 17: 1})\n"
     ]
    }
   ],
   "source": [
    "from collections import Counter\n",
    "f=Counter(data)\n",
    "print(f)"
   ]
  },
  {
   "cell_type": "code",
   "execution_count": 15,
   "id": "ce153ecc",
   "metadata": {},
   "outputs": [
    {
     "name": "stdout",
     "output_type": "stream",
     "text": [
      "[(3, 3), (1, 3), (11, 3)]\n"
     ]
    }
   ],
   "source": [
    "ans=f.most_common(3)\n",
    "print(ans)\n",
    "# （v，cnt）"
   ]
  },
  {
   "cell_type": "markdown",
   "id": "f36d95f2",
   "metadata": {},
   "source": [
    "#### 词频统计"
   ]
  },
  {
   "cell_type": "code",
   "execution_count": 16,
   "id": "2e2660b4",
   "metadata": {
    "scrolled": false
   },
   "outputs": [
    {
     "name": "stdout",
     "output_type": "stream",
     "text": [
      "Wang Xiaoyan, Global Times reporter: Recently, Bangladesh had a bumper harvest of red peppers. The red peppers hung on the ground by local farmers looked like a huge red carpet, attracting many photography enthusiasts. In fact, chili peppers are ubiquitous in bangladeshi People's Daily life, and they seem to be particularly in love with the land. The famous \"snake chili\" and \"bhut chili\" on the list of the hottest chili in the world are all produced in Bangladesh.\n",
      "\n",
      "Bangladesh's chilli production is concentrated in the north of the country. The snake pepper was once listed in the Guinness Book of World Records as the hottest pepper in the world. There are also several similar varieties known by several different names, and a close relative is also known as the \"devil's pepper.\" You can tell from their name that they are unusually hot. Actually, spiciness is a kind of pain, and a bite of snake pepper is said to make you feel the bite of a poisonous snake. The spiciness is more than 1 million Scoville, more than double the previous Guinness record for the hottest chilli. How hot is that? According to local folklore, there were two brothers who split their family property. The older brother, greedy, bet with the younger brother to eat snake-pepper. The winner would get the biggest share\n",
      "\n",
      "Local chillies can also be used as \"biological weapons\" to repel wild elephants. Bangladesh is home to more wild elephants, who sometimes break into villages in search of food and destroy crops. Many villages have built fences with stakes to keep out wild elephants, but this is not difficult for the large and powerful adult male elephants, who can often break through the \"defense\" with a few bumps. Later, some clever villagers hung some small cloth bags with chili powder on the top of the fence. When the elephants hit the wooden post, the chili powder would ooze out of the bag, and the elephants who could not stand the hot smell would not dare to hit again. As a result, many villages have followed suit, and pepper powder is now used as a \"biological weapon\" to repel wild elephants.\n",
      "\n",
      "Chili peppers are hot in Bangladesh, but they are almost always part of the local diet. It may also be related to the hot and humid climate in most parts of Bangladesh. Local people tend to eat salty and spicy food, especially the poor who are often engaged in manual labor, because they need to eat salt to replenish their strength through sweating. Moreover, it is widely believed that eating chili pepper can provide energy for the body. Famous local dishes such as curry fish stew use plenty of chillies, even though it is customary to serve raw chillies alongside main dishes such as curry lamb or chicken. When people eat often is a rice, a vegetable, a chili, so as to eat fragrant.\n",
      "\n",
      "Popcorn with pepper\n",
      "\n",
      "Perhaps because they are used to eating chili, Bangladeshis generally have a strong taste, and many people not only cannot live without chili when eating, but also like to eat snacks with chili. Popcorn is a popular street food in Bangladesh. The most popular way to eat it is to chop up chillies, tomatoes and Onions and mix them in a bucket with masala sauce before serving on a small plate or in a paper tube. Hawkers like to set up stalls outside cinemas and football stadiums, because people like to eat the popcorns while watching movies or cricket matches. It is also common to see people chatting and eating the popcorns in paper packets on the streets and in parks.\n",
      "\n",
      "It's not just popcorn that many Bangladeshis like to eat with their fruit. Guava is popular in Bangladesh, but it is rare for people to buy the fruit whole to eat at home. Vendors with a small fruit knife, also do not need the board, on one hand with a knife in one hand and a guava, deftly peeled slices, and then into the small pot pour seasonings, such as soon, on the inside cover a shaking like a cocktail, poured out later saw the guava block covered in red chilli powder, looking at let a person very have appetite. Take a bite, sour, salty, sweet, hot and refreshing five flavors mixed, eat before the meal can appetizer, meal after a digestion, no wonder become a suitable street food for all ages.\n",
      "\n",
      "Chili peppers are also used in traditional medicine\n",
      "\n",
      "Turn to bangladeshi cookbooks and you'll find chili in almost every well-known dish. Even if there is an occasional dish that doesn't mention chillies, there must be a curry. A curry is a mixture of spices, and chillies have been added to it for a long time. If there are no chillies in the dishes and seasonings, the locals will also use raw chillies with their meals... In fact, even though people in Bangladesh love and can eat chillies, the chillies they eat on a daily basis with their meals and fruit are mostly the common sharp chillies, not the top-notch snake or bhabha chillies.\n",
      "\n",
      "Bangladesh's northern pepper regions are generally poor and backward, with women working at home and men working in southern coastal areas. For hundreds of years, locals have grown and processed chillies by hand, growing them, drying them, grinding them and making chili sauces. There are two harvests a year for local chillies, and every harvest season you can see farmers carrying the chillies to the dry field in a big walkoff basket. The hot chillies are dressed in a bright sari, which is a great attraction for the photographer.\n",
      "\n",
      "It is also used in traditional Bangladeshi medicine as an analgesic and anaesthesia and is believed to aid in the treatment of cardiovascular diseases, rhinitis, diabetes and even cancer. Essential oils extracted from bangladeshi chilies are used as raw materials for many arthritis medicines and painkillers in Europe and the United States. Chilies and related products are important exports of Bangladesh\n",
      "\n"
     ]
    }
   ],
   "source": [
    "txt=open('article.txt').read()\n",
    "print(txt)"
   ]
  },
  {
   "cell_type": "code",
   "execution_count": 17,
   "id": "90bc04b2",
   "metadata": {},
   "outputs": [],
   "source": [
    "## 正则表达式\n",
    "import re \n",
    "word_list=re.split('\\W+',txt)"
   ]
  },
  {
   "cell_type": "code",
   "execution_count": 18,
   "id": "e689249b",
   "metadata": {},
   "outputs": [
    {
     "data": {
      "text/plain": [
       "[('the', 49),\n",
       " ('and', 35),\n",
       " ('a', 34),\n",
       " ('in', 29),\n",
       " ('to', 29),\n",
       " ('is', 22),\n",
       " ('of', 17),\n",
       " ('are', 16),\n",
       " ('chillies', 16),\n",
       " ('with', 14)]"
      ]
     },
     "execution_count": 18,
     "metadata": {},
     "output_type": "execute_result"
    }
   ],
   "source": [
    "c2=Counter(word_list)\n",
    "c2.most_common(10)"
   ]
  },
  {
   "cell_type": "code",
   "execution_count": null,
   "id": "3791ab7f",
   "metadata": {},
   "outputs": [],
   "source": []
  }
 ],
 "metadata": {
  "kernelspec": {
   "display_name": "Python 3 (ipykernel)",
   "language": "python",
   "name": "python3"
  },
  "language_info": {
   "codemirror_mode": {
    "name": "ipython",
    "version": 3
   },
   "file_extension": ".py",
   "mimetype": "text/x-python",
   "name": "python",
   "nbconvert_exporter": "python",
   "pygments_lexer": "ipython3",
   "version": "3.10.1"
  }
 },
 "nbformat": 4,
 "nbformat_minor": 5
}
