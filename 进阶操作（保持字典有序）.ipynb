{
 "cells": [
  {
   "cell_type": "code",
   "execution_count": 4,
   "id": "e3fa6865",
   "metadata": {},
   "outputs": [],
   "source": [
    "d={}\n",
    "d['c']=1\n",
    "d['b']=2\n",
    "d['a']=3"
   ]
  },
  {
   "cell_type": "code",
   "execution_count": 5,
   "id": "d1654142",
   "metadata": {},
   "outputs": [
    {
     "data": {
      "text/plain": [
       "dict_keys(['c', 'b', 'a'])"
      ]
     },
     "execution_count": 5,
     "metadata": {},
     "output_type": "execute_result"
    }
   ],
   "source": [
    "d.keys()"
   ]
  },
  {
   "cell_type": "code",
   "execution_count": 6,
   "id": "aed8a3f2",
   "metadata": {},
   "outputs": [
    {
     "data": {
      "text/plain": [
       "['c', 'b', 'a']"
      ]
     },
     "execution_count": 6,
     "metadata": {},
     "output_type": "execute_result"
    }
   ],
   "source": [
    "list(iter(d))\n",
    "# python 3.7 dict默认有序"
   ]
  },
  {
   "cell_type": "markdown",
   "id": "f059c231",
   "metadata": {},
   "source": [
    "#### OrderedDict"
   ]
  },
  {
   "cell_type": "code",
   "execution_count": 10,
   "id": "ea098e0d",
   "metadata": {},
   "outputs": [],
   "source": [
    "from collections import OrderedDict\n",
    "od=OrderedDict()\n",
    "od['c']=1\n",
    "od['a']=2\n",
    "od['b']=3"
   ]
  },
  {
   "cell_type": "code",
   "execution_count": 12,
   "id": "8a8fc497",
   "metadata": {},
   "outputs": [
    {
     "data": {
      "text/plain": [
       "odict_keys(['c', 'a', 'b'])"
      ]
     },
     "execution_count": 12,
     "metadata": {},
     "output_type": "execute_result"
    }
   ],
   "source": [
    "od.keys()"
   ]
  },
  {
   "cell_type": "code",
   "execution_count": 18,
   "id": "4897f76e",
   "metadata": {},
   "outputs": [
    {
     "name": "stdout",
     "output_type": "stream",
     "text": [
      "['a', 'b', 'c', 'd', 'e', 'f', 'g']\n",
      "['e', 'b', 'd', 'c', 'f', 'g', 'a']\n"
     ]
    }
   ],
   "source": [
    "players=list('abcdefg')\n",
    "from random import shuffle\n",
    "print(players)\n",
    "shuffle(players)\n",
    "print(players)"
   ]
  },
  {
   "cell_type": "code",
   "execution_count": 24,
   "id": "c9aa8a86",
   "metadata": {},
   "outputs": [
    {
     "name": "stdout",
     "output_type": "stream",
     "text": [
      "OrderedDict([('e', 1), ('b', 2), ('d', 3), ('c', 4), ('f', 5), ('g', 6), ('a', 7)])\n"
     ]
    }
   ],
   "source": [
    "od=OrderedDict()\n",
    "for i,p in enumerate(players,1):\n",
    "    od[p]=i\n",
    "print(od)"
   ]
  },
  {
   "cell_type": "code",
   "execution_count": 25,
   "id": "a3e164fc",
   "metadata": {},
   "outputs": [],
   "source": [
    "def query_by_name(d,name):\n",
    "    return d[name]"
   ]
  },
  {
   "cell_type": "code",
   "execution_count": 27,
   "id": "e9f15ab6",
   "metadata": {},
   "outputs": [
    {
     "data": {
      "text/plain": [
       "4"
      ]
     },
     "execution_count": 27,
     "metadata": {},
     "output_type": "execute_result"
    }
   ],
   "source": [
    "query_by_name(od,'c')"
   ]
  },
  {
   "cell_type": "code",
   "execution_count": 28,
   "id": "b78e36be",
   "metadata": {},
   "outputs": [
    {
     "data": {
      "text/plain": [
       "7"
      ]
     },
     "execution_count": 28,
     "metadata": {},
     "output_type": "execute_result"
    }
   ],
   "source": [
    "query_by_name(od,'a')"
   ]
  },
  {
   "cell_type": "markdown",
   "id": "4094e6f7",
   "metadata": {},
   "source": [
    "#### islice 区间截断"
   ]
  },
  {
   "cell_type": "code",
   "execution_count": 39,
   "id": "f74905bb",
   "metadata": {},
   "outputs": [
    {
     "data": {
      "text/plain": [
       "[3, 4, 5]"
      ]
     },
     "execution_count": 39,
     "metadata": {},
     "output_type": "execute_result"
    }
   ],
   "source": [
    "from itertools import islice\n",
    "list(islice(range(10),3,6))\n",
    "# (3,5]"
   ]
  },
  {
   "cell_type": "code",
   "execution_count": 42,
   "id": "f4e4d828",
   "metadata": {},
   "outputs": [],
   "source": [
    "def query_by_order(d,a,b=None):\n",
    "    a-=1\n",
    "    if b is None:\n",
    "        b=a+1\n",
    "    return list(islice(od,a,b))"
   ]
  },
  {
   "cell_type": "code",
   "execution_count": 43,
   "id": "e725c814",
   "metadata": {},
   "outputs": [
    {
     "data": {
      "text/plain": [
       "['c']"
      ]
     },
     "execution_count": 43,
     "metadata": {},
     "output_type": "execute_result"
    }
   ],
   "source": [
    "query_by_order(od,4)"
   ]
  },
  {
   "cell_type": "code",
   "execution_count": 44,
   "id": "60d75df9",
   "metadata": {},
   "outputs": [
    {
     "data": {
      "text/plain": [
       "['d', 'c', 'f', 'g']"
      ]
     },
     "execution_count": 44,
     "metadata": {},
     "output_type": "execute_result"
    }
   ],
   "source": [
    "query_by_order(od,3,6)"
   ]
  }
 ],
 "metadata": {
  "kernelspec": {
   "display_name": "Python 3 (ipykernel)",
   "language": "python",
   "name": "python3"
  },
  "language_info": {
   "codemirror_mode": {
    "name": "ipython",
    "version": 3
   },
   "file_extension": ".py",
   "mimetype": "text/x-python",
   "name": "python",
   "nbconvert_exporter": "python",
   "pygments_lexer": "ipython3",
   "version": "3.10.1"
  }
 },
 "nbformat": 4,
 "nbformat_minor": 5
}
