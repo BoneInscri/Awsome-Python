{
 "cells": [
  {
   "cell_type": "code",
   "execution_count": 2,
   "id": "56f4b2fc",
   "metadata": {},
   "outputs": [
    {
     "name": "stdout",
     "output_type": "stream",
     "text": [
      "1\n",
      "2\n"
     ]
    }
   ],
   "source": [
    "def func(student):\n",
    "    if student[1]<18:\n",
    "        print(1)\n",
    "    if student[2]=='male':\n",
    "        print(2)\n",
    "\n",
    "student=('jim',16,'male','jim8712@gmail.com')\n",
    "func(student)"
   ]
  },
  {
   "cell_type": "markdown",
   "id": "de4178e8",
   "metadata": {},
   "source": [
    "#### 定义数值常量"
   ]
  },
  {
   "cell_type": "code",
   "execution_count": 3,
   "id": "5baa7c99",
   "metadata": {},
   "outputs": [],
   "source": [
    "Name=0\n",
    "AGE=1\n",
    "SEX=2\n",
    "EMAIL=3"
   ]
  },
  {
   "cell_type": "code",
   "execution_count": 4,
   "id": "48d9d7bb",
   "metadata": {},
   "outputs": [],
   "source": [
    "# 拆包\n",
    "Name,Age,Sex,Email=range(4)"
   ]
  },
  {
   "cell_type": "markdown",
   "id": "d22a9422",
   "metadata": {},
   "source": [
    "#### 创建一个命名空间"
   ]
  },
  {
   "cell_type": "code",
   "execution_count": 7,
   "id": "e0d1df30",
   "metadata": {},
   "outputs": [],
   "source": [
    "from enum import IntEnum\n",
    "class StudentEnum(IntEnum):\n",
    "    Name=0\n",
    "    Age=1\n",
    "    Sex=2\n",
    "    Email=3"
   ]
  },
  {
   "cell_type": "code",
   "execution_count": 8,
   "id": "fbaf3994",
   "metadata": {},
   "outputs": [
    {
     "data": {
      "text/plain": [
       "'jim'"
      ]
     },
     "execution_count": 8,
     "metadata": {},
     "output_type": "execute_result"
    }
   ],
   "source": [
    "student[StudentEnum.Name]"
   ]
  },
  {
   "cell_type": "code",
   "execution_count": 9,
   "id": "bd1da0db",
   "metadata": {},
   "outputs": [
    {
     "data": {
      "text/plain": [
       "'male'"
      ]
     },
     "execution_count": 9,
     "metadata": {},
     "output_type": "execute_result"
    }
   ],
   "source": [
    "student[StudentEnum.Sex]"
   ]
  },
  {
   "cell_type": "code",
   "execution_count": 12,
   "id": "639259d5",
   "metadata": {},
   "outputs": [],
   "source": [
    "from collections import namedtuple\n",
    "Student=namedtuple('Student',['name','age','sex','email'])"
   ]
  },
  {
   "cell_type": "code",
   "execution_count": 15,
   "id": "02711e54",
   "metadata": {},
   "outputs": [],
   "source": [
    "s2=Student('jim',16,'male','jim8712@gmail.com')"
   ]
  },
  {
   "cell_type": "code",
   "execution_count": null,
   "id": "9cf46eff",
   "metadata": {},
   "outputs": [],
   "source": [
    "print(s)"
   ]
  }
 ],
 "metadata": {
  "kernelspec": {
   "display_name": "Python 3 (ipykernel)",
   "language": "python",
   "name": "python3"
  },
  "language_info": {
   "codemirror_mode": {
    "name": "ipython",
    "version": 3
   },
   "file_extension": ".py",
   "mimetype": "text/x-python",
   "name": "python",
   "nbconvert_exporter": "python",
   "pygments_lexer": "ipython3",
   "version": "3.10.1"
  }
 },
 "nbformat": 4,
 "nbformat_minor": 5
}
