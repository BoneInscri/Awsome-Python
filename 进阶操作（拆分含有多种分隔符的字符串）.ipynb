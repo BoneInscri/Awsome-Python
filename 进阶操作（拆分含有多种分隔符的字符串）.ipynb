{
 "cells": [
  {
   "cell_type": "markdown",
   "id": "f88ed896",
   "metadata": {},
   "source": [
    "#### 总是先用一种分割符，然后将二维列表转化为一维列表"
   ]
  },
  {
   "cell_type": "code",
   "execution_count": 5,
   "id": "1b81f3ae",
   "metadata": {},
   "outputs": [
    {
     "data": {
      "text/plain": [
       "['ab;cd|efg|hi,jk|mn\\topq;rst,uvw\\txyz']"
      ]
     },
     "execution_count": 5,
     "metadata": {},
     "output_type": "execute_result"
    }
   ],
   "source": [
    "s='ab;cd|efg|hi,jk|mn\\topq;rst,uvw\\txyz'\n",
    "s.split('|,;')# 无法分割"
   ]
  },
  {
   "cell_type": "code",
   "execution_count": 8,
   "id": "bdc22bd1",
   "metadata": {},
   "outputs": [
    {
     "name": "stdout",
     "output_type": "stream",
     "text": [
      "['ab', 'cd|efg|hi,jk|mn\\topq', 'rst,uvw\\txyz']\n"
     ]
    }
   ],
   "source": [
    "s1=s.split(';')\n",
    "print(s1)"
   ]
  },
  {
   "cell_type": "code",
   "execution_count": 9,
   "id": "6d9799ac",
   "metadata": {},
   "outputs": [
    {
     "name": "stdout",
     "output_type": "stream",
     "text": [
      "[['ab'], ['cd', 'efg', 'hi,jk', 'mn\\topq'], ['rst,uvw\\txyz']]\n"
     ]
    }
   ],
   "source": [
    "s2=[ss.split('|') for ss in s1]\n",
    "print(s2)"
   ]
  },
  {
   "cell_type": "code",
   "execution_count": 13,
   "id": "ca2b4a9c",
   "metadata": {},
   "outputs": [
    {
     "name": "stdout",
     "output_type": "stream",
     "text": [
      "[['ab'], ['cd', 'efg', 'hi,jk', 'mn\\topq'], ['rst,uvw\\txyz']]\n"
     ]
    }
   ],
   "source": [
    "s3=map(lambda ss:ss.split('|'),s.split(';'))\n",
    "print(list(s3))"
   ]
  },
  {
   "cell_type": "code",
   "execution_count": 14,
   "id": "b0343794",
   "metadata": {},
   "outputs": [
    {
     "name": "stdout",
     "output_type": "stream",
     "text": [
      "[1, 2, 3]\n"
     ]
    }
   ],
   "source": [
    "t=[]\n",
    "t.extend([1,2,3])\n",
    "print(t)"
   ]
  },
  {
   "cell_type": "code",
   "execution_count": 15,
   "id": "8492cf84",
   "metadata": {},
   "outputs": [
    {
     "name": "stdout",
     "output_type": "stream",
     "text": [
      "[1, 2, 3, 4, 5, 6]\n"
     ]
    }
   ],
   "source": [
    "t.extend([4,5,6])\n",
    "print(t)"
   ]
  },
  {
   "cell_type": "code",
   "execution_count": 28,
   "id": "c38d7067",
   "metadata": {},
   "outputs": [
    {
     "name": "stdout",
     "output_type": "stream",
     "text": [
      "[None, None, None]\n",
      "['ab', 'cd', 'efg', 'hi,jk', 'mn\\topq', 'rst,uvw\\txyz']\n"
     ]
    }
   ],
   "source": [
    "t=[]\n",
    "s4=list(map(t.extend,[ss.split('|') for ss in s.split(';')]))\n",
    "print(s4)\n",
    "print(t)"
   ]
  },
  {
   "cell_type": "code",
   "execution_count": 29,
   "id": "df7711a1",
   "metadata": {},
   "outputs": [
    {
     "data": {
      "text/plain": [
       "['ab', 'cd', 'efg', 'hi,jk', 'mn\\topq', 'rst,uvw\\txyz']"
      ]
     },
     "execution_count": 29,
     "metadata": {},
     "output_type": "execute_result"
    }
   ],
   "source": [
    "sum([ss.split('|') for ss in s.split(';')],[])"
   ]
  },
  {
   "cell_type": "code",
   "execution_count": 30,
   "id": "84c8bbba",
   "metadata": {},
   "outputs": [
    {
     "data": {
      "text/plain": [
       "['ab', 'cd', 'efg', 'hi', 'jk', 'mn', 'opq', 'rst', 'uvw', 'xyz']"
      ]
     },
     "execution_count": 30,
     "metadata": {},
     "output_type": "execute_result"
    }
   ],
   "source": [
    "def my_split(s,seps):\n",
    "    res=[s]\n",
    "    for sep in seps:\n",
    "        t=[]\n",
    "        list(map(lambda ss:t.extend(ss.split(sep)),res))\n",
    "        res=t\n",
    "    return res\n",
    "my_split(s,',;|\\t')"
   ]
  },
  {
   "cell_type": "markdown",
   "id": "badd8d19",
   "metadata": {},
   "source": [
    "#### 使用reduce"
   ]
  },
  {
   "cell_type": "code",
   "execution_count": 41,
   "id": "36a2fe8d",
   "metadata": {},
   "outputs": [
    {
     "data": {
      "text/plain": [
       "['ab', 'cd', 'efg', 'hi', 'jk', 'mn', 'opq', 'rst', 'uvw', 'xyz']"
      ]
     },
     "execution_count": 41,
     "metadata": {},
     "output_type": "execute_result"
    }
   ],
   "source": [
    "from functools import reduce\n",
    "reduce(lambda l,sep:sum(map(lambda ss:ss.split(sep),l),[]),',;|\\t',[s])"
   ]
  },
  {
   "cell_type": "markdown",
   "id": "dc012f7a",
   "metadata": {},
   "source": [
    "#### 使用re 正则表达式"
   ]
  },
  {
   "cell_type": "code",
   "execution_count": null,
   "id": "71c0947d",
   "metadata": {},
   "outputs": [],
   "source": [
    "import re\n",
    "re.split()"
   ]
  }
 ],
 "metadata": {
  "kernelspec": {
   "display_name": "Python 3 (ipykernel)",
   "language": "python",
   "name": "python3"
  },
  "language_info": {
   "codemirror_mode": {
    "name": "ipython",
    "version": 3
   },
   "file_extension": ".py",
   "mimetype": "text/x-python",
   "name": "python",
   "nbconvert_exporter": "python",
   "pygments_lexer": "ipython3",
   "version": "3.10.1"
  }
 },
 "nbformat": 4,
 "nbformat_minor": 5
}
