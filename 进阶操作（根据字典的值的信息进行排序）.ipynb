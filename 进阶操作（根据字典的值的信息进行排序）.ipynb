{
 "cells": [
  {
   "cell_type": "markdown",
   "id": "194ae6c2",
   "metadata": {},
   "source": [
    "python 排序函数\n",
    "\n",
    "sorted"
   ]
  },
  {
   "cell_type": "markdown",
   "id": "0e227d73",
   "metadata": {},
   "source": [
    "将字典进行转化为元组"
   ]
  },
  {
   "cell_type": "code",
   "execution_count": 8,
   "id": "cf4ec027",
   "metadata": {},
   "outputs": [
    {
     "data": {
      "text/plain": [
       "False"
      ]
     },
     "execution_count": 8,
     "metadata": {},
     "output_type": "execute_result"
    }
   ],
   "source": [
    "(1,2,5)>(2,2,5)"
   ]
  },
  {
   "cell_type": "markdown",
   "id": "47bb5141",
   "metadata": {},
   "source": [
    "#### 转化为列表然后排序"
   ]
  },
  {
   "cell_type": "code",
   "execution_count": 12,
   "id": "de7d7be6",
   "metadata": {},
   "outputs": [
    {
     "name": "stdout",
     "output_type": "stream",
     "text": [
      "{'a': 78, 'b': 70, 'c': 64, 'd': 82, 'e': 65, 'f': 88, 'g': 85}\n"
     ]
    }
   ],
   "source": [
    "from random import randint\n",
    "d={k:randint(60,100) for k in 'abcdefg'}\n",
    "print(d)"
   ]
  },
  {
   "cell_type": "code",
   "execution_count": 19,
   "id": "cf77456e",
   "metadata": {},
   "outputs": [
    {
     "name": "stdout",
     "output_type": "stream",
     "text": [
      "[(78, 'a'), (70, 'b'), (64, 'c'), (82, 'd'), (65, 'e'), (88, 'f'), (85, 'g')]\n"
     ]
    }
   ],
   "source": [
    "l=[(v,k) for k,v in d.items()]\n",
    "print(l)"
   ]
  },
  {
   "cell_type": "code",
   "execution_count": 20,
   "id": "97f992e8",
   "metadata": {},
   "outputs": [
    {
     "data": {
      "text/plain": [
       "[(64, 'c'), (65, 'e'), (70, 'b'), (78, 'a'), (82, 'd'), (85, 'g'), (88, 'f')]"
      ]
     },
     "execution_count": 20,
     "metadata": {},
     "output_type": "execute_result"
    }
   ],
   "source": [
    "# 从小到大\n",
    "sorted(l)"
   ]
  },
  {
   "cell_type": "code",
   "execution_count": 22,
   "id": "d1686ba3",
   "metadata": {},
   "outputs": [
    {
     "data": {
      "text/plain": [
       "[(88, 'f'), (85, 'g'), (82, 'd'), (78, 'a'), (70, 'b'), (65, 'e'), (64, 'c')]"
      ]
     },
     "execution_count": 22,
     "metadata": {},
     "output_type": "execute_result"
    }
   ],
   "source": [
    "# 从大到小\n",
    "sorted(l,reverse=True)"
   ]
  },
  {
   "cell_type": "markdown",
   "id": "13f969d7",
   "metadata": {},
   "source": [
    "#### zip的使用"
   ]
  },
  {
   "cell_type": "code",
   "execution_count": 23,
   "id": "d99f8d88",
   "metadata": {},
   "outputs": [
    {
     "data": {
      "text/plain": [
       "<zip at 0x7f1c581e8c40>"
      ]
     },
     "execution_count": 23,
     "metadata": {},
     "output_type": "execute_result"
    }
   ],
   "source": [
    "zip([1,2,3],[4,5,6])"
   ]
  },
  {
   "cell_type": "code",
   "execution_count": 24,
   "id": "efb13e45",
   "metadata": {},
   "outputs": [
    {
     "data": {
      "text/plain": [
       "[(1, 4), (2, 5), (3, 6)]"
      ]
     },
     "execution_count": 24,
     "metadata": {},
     "output_type": "execute_result"
    }
   ],
   "source": [
    "list(zip([1,2,3],[4,5,6]))"
   ]
  },
  {
   "cell_type": "code",
   "execution_count": 27,
   "id": "d58e91b2",
   "metadata": {},
   "outputs": [
    {
     "data": {
      "text/plain": [
       "[(78, 'a'), (70, 'b'), (64, 'c'), (82, 'd'), (65, 'e'), (88, 'f'), (85, 'g')]"
      ]
     },
     "execution_count": 27,
     "metadata": {},
     "output_type": "execute_result"
    }
   ],
   "source": [
    "l=list(zip(d.values(),d.keys()))"
   ]
  },
  {
   "cell_type": "code",
   "execution_count": 28,
   "id": "5c66b625",
   "metadata": {},
   "outputs": [
    {
     "data": {
      "text/plain": [
       "[(64, 'c'), (65, 'e'), (70, 'b'), (78, 'a'), (82, 'd'), (85, 'g'), (88, 'f')]"
      ]
     },
     "execution_count": 28,
     "metadata": {},
     "output_type": "execute_result"
    }
   ],
   "source": [
    "sorted(l)"
   ]
  },
  {
   "cell_type": "markdown",
   "id": "6cf71b31",
   "metadata": {},
   "source": [
    "#### 直接使用sorted的key进行排序"
   ]
  },
  {
   "cell_type": "code",
   "execution_count": 29,
   "id": "68c30973",
   "metadata": {},
   "outputs": [
    {
     "data": {
      "text/plain": [
       "dict_items([('a', 78), ('b', 70), ('c', 64), ('d', 82), ('e', 65), ('f', 88), ('g', 85)])"
      ]
     },
     "execution_count": 29,
     "metadata": {},
     "output_type": "execute_result"
    }
   ],
   "source": [
    "d.items()"
   ]
  },
  {
   "cell_type": "code",
   "execution_count": 30,
   "id": "006accca",
   "metadata": {},
   "outputs": [
    {
     "data": {
      "text/plain": [
       "[('c', 64), ('e', 65), ('b', 70), ('a', 78), ('d', 82), ('g', 85), ('f', 88)]"
      ]
     },
     "execution_count": 30,
     "metadata": {},
     "output_type": "execute_result"
    }
   ],
   "source": [
    "sorted(d.items(),key=lambda item:item[1])"
   ]
  },
  {
   "cell_type": "code",
   "execution_count": 33,
   "id": "8a9a678e",
   "metadata": {},
   "outputs": [
    {
     "name": "stdout",
     "output_type": "stream",
     "text": [
      "[('f', 88), ('g', 85), ('d', 82), ('a', 78), ('b', 70), ('e', 65), ('c', 64)]\n"
     ]
    }
   ],
   "source": [
    "p=sorted(d.items(),key=lambda item:item[1],reverse=True)\n",
    "print(p)"
   ]
  },
  {
   "cell_type": "markdown",
   "id": "f31952d6",
   "metadata": {},
   "source": [
    "#### 排序的信息"
   ]
  },
  {
   "cell_type": "code",
   "execution_count": 34,
   "id": "7173e1c4",
   "metadata": {},
   "outputs": [
    {
     "data": {
      "text/plain": [
       "<enumerate at 0x7f1c581eb6c0>"
      ]
     },
     "execution_count": 34,
     "metadata": {},
     "output_type": "execute_result"
    }
   ],
   "source": [
    "enumerate(p)"
   ]
  },
  {
   "cell_type": "code",
   "execution_count": 47,
   "id": "8420f036",
   "metadata": {},
   "outputs": [
    {
     "data": {
      "text/plain": [
       "[(0, ('f', 88)),\n",
       " (1, ('g', 85)),\n",
       " (2, ('d', 82)),\n",
       " (3, ('a', 78)),\n",
       " (4, ('b', 70)),\n",
       " (5, ('e', 65)),\n",
       " (6, ('c', 64))]"
      ]
     },
     "execution_count": 47,
     "metadata": {},
     "output_type": "execute_result"
    }
   ],
   "source": [
    "list(enumerate(p))"
   ]
  },
  {
   "cell_type": "code",
   "execution_count": 58,
   "id": "2c8170b1",
   "metadata": {},
   "outputs": [
    {
     "name": "stdout",
     "output_type": "stream",
     "text": [
      "{'f': (1, 88), 'g': (2, 85), 'd': (3, 82), 'a': (4, 78), 'b': (5, 70), 'e': (6, 65), 'c': (7, 64)}\n"
     ]
    }
   ],
   "source": [
    "# for 迭代拆包\n",
    "for i,(k,v) in enumerate(p,1):\n",
    "    d[k]=(i,v)\n",
    "print(d)"
   ]
  },
  {
   "cell_type": "code",
   "execution_count": 59,
   "id": "ae51cec9",
   "metadata": {},
   "outputs": [
    {
     "name": "stdout",
     "output_type": "stream",
     "text": [
      "{'f': (1, 88), 'g': (2, 85), 'd': (3, 82), 'a': (4, 78), 'b': (5, 70), 'e': (6, 65), 'c': (7, 64)}\n"
     ]
    }
   ],
   "source": [
    "# 直接进行\n",
    "d={k:(i,v) for i,(k,v) in enumerate(p,1)}\n",
    "print(d)"
   ]
  },
  {
   "cell_type": "code",
   "execution_count": null,
   "id": "5713cd9f",
   "metadata": {},
   "outputs": [],
   "source": []
  },
  {
   "cell_type": "code",
   "execution_count": null,
   "id": "8f29486d",
   "metadata": {},
   "outputs": [],
   "source": []
  },
  {
   "cell_type": "code",
   "execution_count": null,
   "id": "dff79464",
   "metadata": {},
   "outputs": [],
   "source": []
  }
 ],
 "metadata": {
  "kernelspec": {
   "display_name": "Python 3 (ipykernel)",
   "language": "python",
   "name": "python3"
  },
  "language_info": {
   "codemirror_mode": {
    "name": "ipython",
    "version": 3
   },
   "file_extension": ".py",
   "mimetype": "text/x-python",
   "name": "python",
   "nbconvert_exporter": "python",
   "pygments_lexer": "ipython3",
   "version": "3.10.1"
  }
 },
 "nbformat": 4,
 "nbformat_minor": 5
}
